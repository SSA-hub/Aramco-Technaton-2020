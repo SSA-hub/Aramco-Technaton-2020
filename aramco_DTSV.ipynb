{
 "cells": [
  {
   "cell_type": "code",
   "execution_count": 121,
   "metadata": {},
   "outputs": [],
   "source": [
    "import pandas as pd\n",
    "import matplotlib.pyplot as plt\n",
    "import numpy as np\n",
    "import statsmodels.api as sm\n",
    "from statsmodels.iolib.table import SimpleTable\n",
    "from sklearn.metrics import r2_score\n",
    "import statsmodels as sm"
   ]
  },
  {
   "cell_type": "code",
   "execution_count": 2,
   "metadata": {},
   "outputs": [],
   "source": [
    "data = pd.ExcelFile(\"DTSV_data_gaps.xlsx\")"
   ]
  },
  {
   "cell_type": "code",
   "execution_count": 3,
   "metadata": {},
   "outputs": [
    {
     "data": {
      "text/plain": [
       "['Forward Length', 'Backward Length']"
      ]
     },
     "execution_count": 3,
     "metadata": {},
     "output_type": "execute_result"
    }
   ],
   "source": [
    "data.sheet_names"
   ]
  },
  {
   "cell_type": "code",
   "execution_count": 4,
   "metadata": {},
   "outputs": [
    {
     "data": {
      "text/html": [
       "<div>\n",
       "<style scoped>\n",
       "    .dataframe tbody tr th:only-of-type {\n",
       "        vertical-align: middle;\n",
       "    }\n",
       "\n",
       "    .dataframe tbody tr th {\n",
       "        vertical-align: top;\n",
       "    }\n",
       "\n",
       "    .dataframe thead th {\n",
       "        text-align: right;\n",
       "    }\n",
       "</style>\n",
       "<table border=\"1\" class=\"dataframe\">\n",
       "  <thead>\n",
       "    <tr style=\"text-align: right;\">\n",
       "      <th></th>\n",
       "      <th>Unnamed: 0</th>\n",
       "      <th>2016-03-18 00:00:00</th>\n",
       "      <th>2016-03-19 00:00:00</th>\n",
       "      <th>2016-03-20 00:00:00</th>\n",
       "      <th>2016-03-21 00:00:00</th>\n",
       "      <th>2016-03-22 00:00:00</th>\n",
       "      <th>2016-03-23 00:00:00</th>\n",
       "      <th>2016-03-24 00:00:00</th>\n",
       "      <th>2016-03-25 00:00:00</th>\n",
       "      <th>2016-03-26 00:00:00</th>\n",
       "      <th>...</th>\n",
       "      <th>2017-10-14 00:00:00</th>\n",
       "      <th>2017-10-15 00:00:00</th>\n",
       "      <th>2017-10-16 00:00:00</th>\n",
       "      <th>2017-10-17 00:00:00</th>\n",
       "      <th>2017-10-18 00:00:00</th>\n",
       "      <th>2017-10-19 00:00:00</th>\n",
       "      <th>2017-10-20 00:00:00</th>\n",
       "      <th>2017-10-21 00:00:00</th>\n",
       "      <th>2017-10-22 00:00:00</th>\n",
       "      <th>2017-10-23 00:00:00</th>\n",
       "    </tr>\n",
       "  </thead>\n",
       "  <tbody>\n",
       "    <tr>\n",
       "      <th>0</th>\n",
       "      <td>Depth (m)</td>\n",
       "      <td>Temperature (deg C)</td>\n",
       "      <td>Temperature (deg C)</td>\n",
       "      <td>Temperature (deg C)</td>\n",
       "      <td>Temperature (deg C)</td>\n",
       "      <td>Temperature (deg C)</td>\n",
       "      <td>Temperature (deg C)</td>\n",
       "      <td>Temperature (deg C)</td>\n",
       "      <td>Temperature (deg C)</td>\n",
       "      <td>Temperature (deg C)</td>\n",
       "      <td>...</td>\n",
       "      <td>Temperature (deg C)</td>\n",
       "      <td>Temperature (deg C)</td>\n",
       "      <td>Temperature (deg C)</td>\n",
       "      <td>Temperature (deg C)</td>\n",
       "      <td>Temperature (deg C)</td>\n",
       "      <td>Temperature (deg C)</td>\n",
       "      <td>Temperature (deg C)</td>\n",
       "      <td>Temperature (deg C)</td>\n",
       "      <td>Temperature (deg C)</td>\n",
       "      <td>Temperature (deg C)</td>\n",
       "    </tr>\n",
       "    <tr>\n",
       "      <th>1</th>\n",
       "      <td>0.101</td>\n",
       "      <td>1.236</td>\n",
       "      <td>1.052</td>\n",
       "      <td>1.065</td>\n",
       "      <td>0.912</td>\n",
       "      <td>0.936</td>\n",
       "      <td>1.062</td>\n",
       "      <td>0.913</td>\n",
       "      <td>0.838</td>\n",
       "      <td>0.844</td>\n",
       "      <td>...</td>\n",
       "      <td>16.566</td>\n",
       "      <td>16.572</td>\n",
       "      <td>16.685</td>\n",
       "      <td>17.029</td>\n",
       "      <td>16.939</td>\n",
       "      <td>16.914</td>\n",
       "      <td>16.744</td>\n",
       "      <td>16.775</td>\n",
       "      <td>17.288</td>\n",
       "      <td>17.251</td>\n",
       "    </tr>\n",
       "    <tr>\n",
       "      <th>2</th>\n",
       "      <td>0.227</td>\n",
       "      <td>1.074</td>\n",
       "      <td>0.973</td>\n",
       "      <td>0.927</td>\n",
       "      <td>0.748</td>\n",
       "      <td>0.818</td>\n",
       "      <td>0.933</td>\n",
       "      <td>0.885</td>\n",
       "      <td>0.809</td>\n",
       "      <td>0.796</td>\n",
       "      <td>...</td>\n",
       "      <td>16.44</td>\n",
       "      <td>16.425</td>\n",
       "      <td>16.78</td>\n",
       "      <td>16.906</td>\n",
       "      <td>16.827</td>\n",
       "      <td>16.887</td>\n",
       "      <td>16.613</td>\n",
       "      <td>16.878</td>\n",
       "      <td>17.134</td>\n",
       "      <td>17.259</td>\n",
       "    </tr>\n",
       "    <tr>\n",
       "      <th>3</th>\n",
       "      <td>0.354</td>\n",
       "      <td>1.19</td>\n",
       "      <td>0.914</td>\n",
       "      <td>0.684</td>\n",
       "      <td>0.707</td>\n",
       "      <td>0.85</td>\n",
       "      <td>1.094</td>\n",
       "      <td>0.937</td>\n",
       "      <td>0.869</td>\n",
       "      <td>0.653</td>\n",
       "      <td>...</td>\n",
       "      <td>16.254</td>\n",
       "      <td>16.553</td>\n",
       "      <td>16.601</td>\n",
       "      <td>16.634</td>\n",
       "      <td>16.729</td>\n",
       "      <td>16.821</td>\n",
       "      <td>16.525</td>\n",
       "      <td>16.849</td>\n",
       "      <td>16.99</td>\n",
       "      <td>17.187</td>\n",
       "    </tr>\n",
       "    <tr>\n",
       "      <th>4</th>\n",
       "      <td>0.48</td>\n",
       "      <td>1.2</td>\n",
       "      <td>0.907</td>\n",
       "      <td>0.602</td>\n",
       "      <td>0.749</td>\n",
       "      <td>1.048</td>\n",
       "      <td>1.212</td>\n",
       "      <td>0.99</td>\n",
       "      <td>0.982</td>\n",
       "      <td>0.65</td>\n",
       "      <td>...</td>\n",
       "      <td>15.913</td>\n",
       "      <td>16.021</td>\n",
       "      <td>16.255</td>\n",
       "      <td>16.285</td>\n",
       "      <td>16.35</td>\n",
       "      <td>16.417</td>\n",
       "      <td>16.355</td>\n",
       "      <td>16.43</td>\n",
       "      <td>16.788</td>\n",
       "      <td>16.831</td>\n",
       "    </tr>\n",
       "  </tbody>\n",
       "</table>\n",
       "<p>5 rows × 586 columns</p>\n",
       "</div>"
      ],
      "text/plain": [
       "  Unnamed: 0  2016-03-18 00:00:00  2016-03-19 00:00:00  2016-03-20 00:00:00  \\\n",
       "0  Depth (m)  Temperature (deg C)  Temperature (deg C)  Temperature (deg C)   \n",
       "1      0.101                1.236                1.052                1.065   \n",
       "2      0.227                1.074                0.973                0.927   \n",
       "3      0.354                 1.19                0.914                0.684   \n",
       "4       0.48                  1.2                0.907                0.602   \n",
       "\n",
       "   2016-03-21 00:00:00  2016-03-22 00:00:00  2016-03-23 00:00:00  \\\n",
       "0  Temperature (deg C)  Temperature (deg C)  Temperature (deg C)   \n",
       "1                0.912                0.936                1.062   \n",
       "2                0.748                0.818                0.933   \n",
       "3                0.707                 0.85                1.094   \n",
       "4                0.749                1.048                1.212   \n",
       "\n",
       "   2016-03-24 00:00:00  2016-03-25 00:00:00  2016-03-26 00:00:00  ...  \\\n",
       "0  Temperature (deg C)  Temperature (deg C)  Temperature (deg C)  ...   \n",
       "1                0.913                0.838                0.844  ...   \n",
       "2                0.885                0.809                0.796  ...   \n",
       "3                0.937                0.869                0.653  ...   \n",
       "4                 0.99                0.982                 0.65  ...   \n",
       "\n",
       "   2017-10-14 00:00:00  2017-10-15 00:00:00  2017-10-16 00:00:00  \\\n",
       "0  Temperature (deg C)  Temperature (deg C)  Temperature (deg C)   \n",
       "1               16.566               16.572               16.685   \n",
       "2                16.44               16.425                16.78   \n",
       "3               16.254               16.553               16.601   \n",
       "4               15.913               16.021               16.255   \n",
       "\n",
       "   2017-10-17 00:00:00  2017-10-18 00:00:00  2017-10-19 00:00:00  \\\n",
       "0  Temperature (deg C)  Temperature (deg C)  Temperature (deg C)   \n",
       "1               17.029               16.939               16.914   \n",
       "2               16.906               16.827               16.887   \n",
       "3               16.634               16.729               16.821   \n",
       "4               16.285                16.35               16.417   \n",
       "\n",
       "   2017-10-20 00:00:00  2017-10-21 00:00:00  2017-10-22 00:00:00  \\\n",
       "0  Temperature (deg C)  Temperature (deg C)  Temperature (deg C)   \n",
       "1               16.744               16.775               17.288   \n",
       "2               16.613               16.878               17.134   \n",
       "3               16.525               16.849                16.99   \n",
       "4               16.355                16.43               16.788   \n",
       "\n",
       "   2017-10-23 00:00:00  \n",
       "0  Temperature (deg C)  \n",
       "1               17.251  \n",
       "2               17.259  \n",
       "3               17.187  \n",
       "4               16.831  \n",
       "\n",
       "[5 rows x 586 columns]"
      ]
     },
     "execution_count": 4,
     "metadata": {},
     "output_type": "execute_result"
    }
   ],
   "source": [
    "fl_data = data.parse('Forward Length')\n",
    "bl_data = data.parse('Backward Length')\n",
    "fl_data.head()"
   ]
  },
  {
   "cell_type": "code",
   "execution_count": null,
   "metadata": {},
   "outputs": [],
   "source": [
    "mean_data = fl_data\n",
    "for i in fl_data.keys():\n",
    "    for j in range(2935):\n",
    "        mean_data[i][j + 1] = (fl_data[i][j + 1] + bl_data[i][j + 1])/2\n",
    "mean_data.head()"
   ]
  },
  {
   "cell_type": "code",
   "execution_count": null,
   "metadata": {},
   "outputs": [],
   "source": [
    "bl_data['Unnamed: 0'][1]"
   ]
  },
  {
   "cell_type": "code",
   "execution_count": null,
   "metadata": {},
   "outputs": [],
   "source": [
    "fl_data.keys()"
   ]
  },
  {
   "cell_type": "code",
   "execution_count": 6,
   "metadata": {},
   "outputs": [],
   "source": [
    "fl_data_isnan = pd.isna(fl_data)"
   ]
  },
  {
   "cell_type": "code",
   "execution_count": null,
   "metadata": {},
   "outputs": [],
   "source": [
    "fl_data_nan = []\n",
    "for i in fl_data_isnan.keys():\n",
    "    if (fl_data_isnan[i][2] == True):\n",
    "        fl_data_nan.append(i)"
   ]
  },
  {
   "cell_type": "code",
   "execution_count": 41,
   "metadata": {},
   "outputs": [
    {
     "data": {
      "text/html": [
       "<div>\n",
       "<style scoped>\n",
       "    .dataframe tbody tr th:only-of-type {\n",
       "        vertical-align: middle;\n",
       "    }\n",
       "\n",
       "    .dataframe tbody tr th {\n",
       "        vertical-align: top;\n",
       "    }\n",
       "\n",
       "    .dataframe thead th {\n",
       "        text-align: right;\n",
       "    }\n",
       "</style>\n",
       "<table border=\"1\" class=\"dataframe\">\n",
       "  <thead>\n",
       "    <tr style=\"text-align: right;\">\n",
       "      <th></th>\n",
       "      <th>1</th>\n",
       "      <th>2</th>\n",
       "      <th>3</th>\n",
       "      <th>4</th>\n",
       "      <th>5</th>\n",
       "      <th>6</th>\n",
       "      <th>7</th>\n",
       "      <th>8</th>\n",
       "      <th>9</th>\n",
       "      <th>10</th>\n",
       "      <th>...</th>\n",
       "      <th>2926</th>\n",
       "      <th>2927</th>\n",
       "      <th>2928</th>\n",
       "      <th>2929</th>\n",
       "      <th>2930</th>\n",
       "      <th>2931</th>\n",
       "      <th>2932</th>\n",
       "      <th>2933</th>\n",
       "      <th>2934</th>\n",
       "      <th>2935</th>\n",
       "    </tr>\n",
       "  </thead>\n",
       "  <tbody>\n",
       "    <tr>\n",
       "      <th>2016-03-18 00:00:00</th>\n",
       "      <td>1.236</td>\n",
       "      <td>1.074</td>\n",
       "      <td>1.19</td>\n",
       "      <td>1.2</td>\n",
       "      <td>0.959</td>\n",
       "      <td>0.881</td>\n",
       "      <td>0.885</td>\n",
       "      <td>0.974</td>\n",
       "      <td>0.962</td>\n",
       "      <td>0.863</td>\n",
       "      <td>...</td>\n",
       "      <td>110.7</td>\n",
       "      <td>110.79</td>\n",
       "      <td>110.59</td>\n",
       "      <td>110.65</td>\n",
       "      <td>110.76</td>\n",
       "      <td>110.64</td>\n",
       "      <td>109.84</td>\n",
       "      <td>106.75</td>\n",
       "      <td>102.69</td>\n",
       "      <td>102.02</td>\n",
       "    </tr>\n",
       "    <tr>\n",
       "      <th>2016-03-19 00:00:00</th>\n",
       "      <td>1.052</td>\n",
       "      <td>0.973</td>\n",
       "      <td>0.914</td>\n",
       "      <td>0.907</td>\n",
       "      <td>0.756</td>\n",
       "      <td>0.587</td>\n",
       "      <td>0.69</td>\n",
       "      <td>0.925</td>\n",
       "      <td>0.981</td>\n",
       "      <td>0.817</td>\n",
       "      <td>...</td>\n",
       "      <td>110.56</td>\n",
       "      <td>110.39</td>\n",
       "      <td>110.58</td>\n",
       "      <td>110.74</td>\n",
       "      <td>110.53</td>\n",
       "      <td>110.58</td>\n",
       "      <td>109.68</td>\n",
       "      <td>106.78</td>\n",
       "      <td>102.75</td>\n",
       "      <td>101.84</td>\n",
       "    </tr>\n",
       "    <tr>\n",
       "      <th>2016-03-20 00:00:00</th>\n",
       "      <td>1.065</td>\n",
       "      <td>0.927</td>\n",
       "      <td>0.684</td>\n",
       "      <td>0.602</td>\n",
       "      <td>0.803</td>\n",
       "      <td>0.725</td>\n",
       "      <td>0.655</td>\n",
       "      <td>0.826</td>\n",
       "      <td>0.819</td>\n",
       "      <td>0.706</td>\n",
       "      <td>...</td>\n",
       "      <td>110.69</td>\n",
       "      <td>110.47</td>\n",
       "      <td>110.45</td>\n",
       "      <td>110.44</td>\n",
       "      <td>110.68</td>\n",
       "      <td>110.73</td>\n",
       "      <td>109.87</td>\n",
       "      <td>107.09</td>\n",
       "      <td>102.81</td>\n",
       "      <td>101.71</td>\n",
       "    </tr>\n",
       "    <tr>\n",
       "      <th>2016-03-21 00:00:00</th>\n",
       "      <td>0.912</td>\n",
       "      <td>0.748</td>\n",
       "      <td>0.707</td>\n",
       "      <td>0.749</td>\n",
       "      <td>0.716</td>\n",
       "      <td>0.694</td>\n",
       "      <td>0.771</td>\n",
       "      <td>0.735</td>\n",
       "      <td>0.847</td>\n",
       "      <td>0.847</td>\n",
       "      <td>...</td>\n",
       "      <td>110.78</td>\n",
       "      <td>110.41</td>\n",
       "      <td>110.65</td>\n",
       "      <td>110.75</td>\n",
       "      <td>110.56</td>\n",
       "      <td>110.58</td>\n",
       "      <td>109.89</td>\n",
       "      <td>107</td>\n",
       "      <td>102.45</td>\n",
       "      <td>101.5</td>\n",
       "    </tr>\n",
       "    <tr>\n",
       "      <th>2016-03-22 00:00:00</th>\n",
       "      <td>0.936</td>\n",
       "      <td>0.818</td>\n",
       "      <td>0.85</td>\n",
       "      <td>1.048</td>\n",
       "      <td>1.055</td>\n",
       "      <td>0.732</td>\n",
       "      <td>0.684</td>\n",
       "      <td>0.745</td>\n",
       "      <td>0.955</td>\n",
       "      <td>0.976</td>\n",
       "      <td>...</td>\n",
       "      <td>110.8</td>\n",
       "      <td>110.49</td>\n",
       "      <td>110.49</td>\n",
       "      <td>110.6</td>\n",
       "      <td>110.7</td>\n",
       "      <td>110.7</td>\n",
       "      <td>109.78</td>\n",
       "      <td>106.69</td>\n",
       "      <td>102.65</td>\n",
       "      <td>102.01</td>\n",
       "    </tr>\n",
       "  </tbody>\n",
       "</table>\n",
       "<p>5 rows × 2935 columns</p>\n",
       "</div>"
      ],
      "text/plain": [
       "                      1      2      3      4      5      6      7      8     \\\n",
       "2016-03-18 00:00:00  1.236  1.074   1.19    1.2  0.959  0.881  0.885  0.974   \n",
       "2016-03-19 00:00:00  1.052  0.973  0.914  0.907  0.756  0.587   0.69  0.925   \n",
       "2016-03-20 00:00:00  1.065  0.927  0.684  0.602  0.803  0.725  0.655  0.826   \n",
       "2016-03-21 00:00:00  0.912  0.748  0.707  0.749  0.716  0.694  0.771  0.735   \n",
       "2016-03-22 00:00:00  0.936  0.818   0.85  1.048  1.055  0.732  0.684  0.745   \n",
       "\n",
       "                      9      10    ...    2926    2927    2928    2929  \\\n",
       "2016-03-18 00:00:00  0.962  0.863  ...   110.7  110.79  110.59  110.65   \n",
       "2016-03-19 00:00:00  0.981  0.817  ...  110.56  110.39  110.58  110.74   \n",
       "2016-03-20 00:00:00  0.819  0.706  ...  110.69  110.47  110.45  110.44   \n",
       "2016-03-21 00:00:00  0.847  0.847  ...  110.78  110.41  110.65  110.75   \n",
       "2016-03-22 00:00:00  0.955  0.976  ...   110.8  110.49  110.49   110.6   \n",
       "\n",
       "                       2930    2931    2932    2933    2934    2935  \n",
       "2016-03-18 00:00:00  110.76  110.64  109.84  106.75  102.69  102.02  \n",
       "2016-03-19 00:00:00  110.53  110.58  109.68  106.78  102.75  101.84  \n",
       "2016-03-20 00:00:00  110.68  110.73  109.87  107.09  102.81  101.71  \n",
       "2016-03-21 00:00:00  110.56  110.58  109.89     107  102.45   101.5  \n",
       "2016-03-22 00:00:00   110.7   110.7  109.78  106.69  102.65  102.01  \n",
       "\n",
       "[5 rows x 2935 columns]"
      ]
     },
     "execution_count": 41,
     "metadata": {},
     "output_type": "execute_result"
    }
   ],
   "source": [
    "fl_data1 = fl_data\n",
    "del fl_data1['Unnamed: 0']\n",
    "fl_T = fl_data1.T\n",
    "del fl_T[0]\n",
    "fl_T.head()"
   ]
  },
  {
   "cell_type": "code",
   "execution_count": 42,
   "metadata": {},
   "outputs": [],
   "source": [
    "fl_T.to_csv('DTSV.csv')"
   ]
  },
  {
   "cell_type": "code",
   "execution_count": 5,
   "metadata": {},
   "outputs": [],
   "source": [
    "dataset = pd.read_csv('DTSV.csv', index_col=['Unnamed: 0'], parse_dates=['Unnamed: 0'], dayfirst=True)"
   ]
  },
  {
   "cell_type": "code",
   "execution_count": 15,
   "metadata": {},
   "outputs": [
    {
     "data": {
      "text/html": [
       "<div>\n",
       "<style scoped>\n",
       "    .dataframe tbody tr th:only-of-type {\n",
       "        vertical-align: middle;\n",
       "    }\n",
       "\n",
       "    .dataframe tbody tr th {\n",
       "        vertical-align: top;\n",
       "    }\n",
       "\n",
       "    .dataframe thead th {\n",
       "        text-align: right;\n",
       "    }\n",
       "</style>\n",
       "<table border=\"1\" class=\"dataframe\">\n",
       "  <thead>\n",
       "    <tr style=\"text-align: right;\">\n",
       "      <th></th>\n",
       "      <th>1</th>\n",
       "      <th>2</th>\n",
       "      <th>3</th>\n",
       "      <th>4</th>\n",
       "      <th>5</th>\n",
       "      <th>6</th>\n",
       "      <th>7</th>\n",
       "      <th>8</th>\n",
       "      <th>9</th>\n",
       "      <th>10</th>\n",
       "      <th>...</th>\n",
       "      <th>2926</th>\n",
       "      <th>2927</th>\n",
       "      <th>2928</th>\n",
       "      <th>2929</th>\n",
       "      <th>2930</th>\n",
       "      <th>2931</th>\n",
       "      <th>2932</th>\n",
       "      <th>2933</th>\n",
       "      <th>2934</th>\n",
       "      <th>2935</th>\n",
       "    </tr>\n",
       "  </thead>\n",
       "  <tbody>\n",
       "    <tr>\n",
       "      <th>2016-03-18 00:00:00</th>\n",
       "      <td>1.236</td>\n",
       "      <td>1.074</td>\n",
       "      <td>1.190</td>\n",
       "      <td>1.200</td>\n",
       "      <td>0.959</td>\n",
       "      <td>0.881</td>\n",
       "      <td>0.885</td>\n",
       "      <td>0.974</td>\n",
       "      <td>0.962</td>\n",
       "      <td>0.863</td>\n",
       "      <td>...</td>\n",
       "      <td>110.70</td>\n",
       "      <td>110.79</td>\n",
       "      <td>110.59</td>\n",
       "      <td>110.65</td>\n",
       "      <td>110.76</td>\n",
       "      <td>110.64</td>\n",
       "      <td>109.84</td>\n",
       "      <td>106.75</td>\n",
       "      <td>102.69</td>\n",
       "      <td>102.02</td>\n",
       "    </tr>\n",
       "    <tr>\n",
       "      <th>2016-03-19 00:00:00</th>\n",
       "      <td>1.052</td>\n",
       "      <td>0.973</td>\n",
       "      <td>0.914</td>\n",
       "      <td>0.907</td>\n",
       "      <td>0.756</td>\n",
       "      <td>0.587</td>\n",
       "      <td>0.690</td>\n",
       "      <td>0.925</td>\n",
       "      <td>0.981</td>\n",
       "      <td>0.817</td>\n",
       "      <td>...</td>\n",
       "      <td>110.56</td>\n",
       "      <td>110.39</td>\n",
       "      <td>110.58</td>\n",
       "      <td>110.74</td>\n",
       "      <td>110.53</td>\n",
       "      <td>110.58</td>\n",
       "      <td>109.68</td>\n",
       "      <td>106.78</td>\n",
       "      <td>102.75</td>\n",
       "      <td>101.84</td>\n",
       "    </tr>\n",
       "    <tr>\n",
       "      <th>2016-03-20 00:00:00</th>\n",
       "      <td>1.065</td>\n",
       "      <td>0.927</td>\n",
       "      <td>0.684</td>\n",
       "      <td>0.602</td>\n",
       "      <td>0.803</td>\n",
       "      <td>0.725</td>\n",
       "      <td>0.655</td>\n",
       "      <td>0.826</td>\n",
       "      <td>0.819</td>\n",
       "      <td>0.706</td>\n",
       "      <td>...</td>\n",
       "      <td>110.69</td>\n",
       "      <td>110.47</td>\n",
       "      <td>110.45</td>\n",
       "      <td>110.44</td>\n",
       "      <td>110.68</td>\n",
       "      <td>110.73</td>\n",
       "      <td>109.87</td>\n",
       "      <td>107.09</td>\n",
       "      <td>102.81</td>\n",
       "      <td>101.71</td>\n",
       "    </tr>\n",
       "    <tr>\n",
       "      <th>2016-03-21 00:00:00</th>\n",
       "      <td>0.912</td>\n",
       "      <td>0.748</td>\n",
       "      <td>0.707</td>\n",
       "      <td>0.749</td>\n",
       "      <td>0.716</td>\n",
       "      <td>0.694</td>\n",
       "      <td>0.771</td>\n",
       "      <td>0.735</td>\n",
       "      <td>0.847</td>\n",
       "      <td>0.847</td>\n",
       "      <td>...</td>\n",
       "      <td>110.78</td>\n",
       "      <td>110.41</td>\n",
       "      <td>110.65</td>\n",
       "      <td>110.75</td>\n",
       "      <td>110.56</td>\n",
       "      <td>110.58</td>\n",
       "      <td>109.89</td>\n",
       "      <td>107.00</td>\n",
       "      <td>102.45</td>\n",
       "      <td>101.50</td>\n",
       "    </tr>\n",
       "    <tr>\n",
       "      <th>2016-03-22 00:00:00</th>\n",
       "      <td>0.936</td>\n",
       "      <td>0.818</td>\n",
       "      <td>0.850</td>\n",
       "      <td>1.048</td>\n",
       "      <td>1.055</td>\n",
       "      <td>0.732</td>\n",
       "      <td>0.684</td>\n",
       "      <td>0.745</td>\n",
       "      <td>0.955</td>\n",
       "      <td>0.976</td>\n",
       "      <td>...</td>\n",
       "      <td>110.80</td>\n",
       "      <td>110.49</td>\n",
       "      <td>110.49</td>\n",
       "      <td>110.60</td>\n",
       "      <td>110.70</td>\n",
       "      <td>110.70</td>\n",
       "      <td>109.78</td>\n",
       "      <td>106.69</td>\n",
       "      <td>102.65</td>\n",
       "      <td>102.01</td>\n",
       "    </tr>\n",
       "  </tbody>\n",
       "</table>\n",
       "<p>5 rows × 2935 columns</p>\n",
       "</div>"
      ],
      "text/plain": [
       "                         1      2      3      4      5      6      7      8  \\\n",
       "2016-03-18 00:00:00  1.236  1.074  1.190  1.200  0.959  0.881  0.885  0.974   \n",
       "2016-03-19 00:00:00  1.052  0.973  0.914  0.907  0.756  0.587  0.690  0.925   \n",
       "2016-03-20 00:00:00  1.065  0.927  0.684  0.602  0.803  0.725  0.655  0.826   \n",
       "2016-03-21 00:00:00  0.912  0.748  0.707  0.749  0.716  0.694  0.771  0.735   \n",
       "2016-03-22 00:00:00  0.936  0.818  0.850  1.048  1.055  0.732  0.684  0.745   \n",
       "\n",
       "                         9     10  ...    2926    2927    2928    2929  \\\n",
       "2016-03-18 00:00:00  0.962  0.863  ...  110.70  110.79  110.59  110.65   \n",
       "2016-03-19 00:00:00  0.981  0.817  ...  110.56  110.39  110.58  110.74   \n",
       "2016-03-20 00:00:00  0.819  0.706  ...  110.69  110.47  110.45  110.44   \n",
       "2016-03-21 00:00:00  0.847  0.847  ...  110.78  110.41  110.65  110.75   \n",
       "2016-03-22 00:00:00  0.955  0.976  ...  110.80  110.49  110.49  110.60   \n",
       "\n",
       "                       2930    2931    2932    2933    2934    2935  \n",
       "2016-03-18 00:00:00  110.76  110.64  109.84  106.75  102.69  102.02  \n",
       "2016-03-19 00:00:00  110.53  110.58  109.68  106.78  102.75  101.84  \n",
       "2016-03-20 00:00:00  110.68  110.73  109.87  107.09  102.81  101.71  \n",
       "2016-03-21 00:00:00  110.56  110.58  109.89  107.00  102.45  101.50  \n",
       "2016-03-22 00:00:00  110.70  110.70  109.78  106.69  102.65  102.01  \n",
       "\n",
       "[5 rows x 2935 columns]"
      ]
     },
     "execution_count": 15,
     "metadata": {},
     "output_type": "execute_result"
    }
   ],
   "source": [
    "dataset.head()"
   ]
  },
  {
   "cell_type": "code",
   "execution_count": 15,
   "metadata": {},
   "outputs": [
    {
     "data": {
      "text/plain": [
       "<matplotlib.axes._subplots.AxesSubplot at 0x1f1fcc37708>"
      ]
     },
     "execution_count": 15,
     "metadata": {},
     "output_type": "execute_result"
    },
    {
     "data": {
      "image/png": "[encoded data removed]",
      "text/plain": [
       "<Figure size 864x432 with 1 Axes>"
      ]
     },
     "metadata": {
      "needs_background": "light"
     },
     "output_type": "display_data"
    }
   ],
   "source": [
    "data_1 = dataset['1']\n",
    "data_1.plot(figsize=(12,6))"
   ]
  },
  {
   "cell_type": "code",
   "execution_count": 35,
   "metadata": {},
   "outputs": [
    {
     "data": {
      "text/plain": [
       "<matplotlib.axes._subplots.AxesSubplot at 0x2177163f508>"
      ]
     },
     "execution_count": 35,
     "metadata": {},
     "output_type": "execute_result"
    },
    {
     "data": {
      "image/png": "[encoded data removed]",
      "text/plain": [
       "<Figure size 864x432 with 1 Axes>"
      ]
     },
     "metadata": {
      "needs_background": "light"
     },
     "output_type": "display_data"
    }
   ],
   "source": [
    "dt_t = dataset.T\n",
    "dt_t['2016-03-18 00:00:00'].plot(figsize=(12,6))\n",
    "dt_t['2016-03-19 00:00:00'].plot(figsize=(12,6))\n",
    "dt_t['2016-03-20 00:00:00'].plot(figsize=(12,6))\n",
    "dt_t['2016-03-21 00:00:00'].plot(figsize=(12,6))\n",
    "dt_t['2016-03-22 00:00:00'].plot(figsize=(12,6))\n",
    "dt_t['2016-04-18 00:00:00'].plot(figsize=(12,6))\n",
    "dt_t['2017-03-18 00:00:00'].plot(figsize=(12,6))\n",
    "dt_t['2017-03-18 00:00:00'].plot(figsize=(12,6))\n",
    "dt_t['2017-03-19 00:00:00'].plot(figsize=(12,6))\n",
    "dt_t['2017-03-20 00:00:00'].plot(figsize=(12,6))\n",
    "dt_t['2017-03-21 00:00:00'].plot(figsize=(12,6))"
   ]
  },
  {
   "cell_type": "code",
   "execution_count": 14,
   "metadata": {},
   "outputs": [
    {
     "data": {
      "text/plain": [
       "<matplotlib.axes._subplots.AxesSubplot at 0x21767e4eb08>"
      ]
     },
     "execution_count": 14,
     "metadata": {},
     "output_type": "execute_result"
    },
    {
     "data": {
      "image/png": "[encoded data removed]",
      "text/plain": [
       "<Figure size 864x432 with 1 Axes>"
      ]
     },
     "metadata": {
      "needs_background": "light"
     },
     "output_type": "display_data"
    }
   ],
   "source": [
    "dataset['1'].plot(figsize=(12,6))\n",
    "dataset['2'].plot(figsize=(12,6))\n",
    "dataset['3'].plot(figsize=(12,6))\n",
    "dataset['4'].plot(figsize=(12,6))\n",
    "dataset['5'].plot(figsize=(12,6))\n",
    "dataset['6'].plot(figsize=(12,6))\n",
    "dataset['7'].plot(figsize=(12,6))\n",
    "dataset['8'].plot(figsize=(12,6))\n",
    "dataset['9'].plot(figsize=(12,6))\n",
    "dataset['10'].plot(figsize=(12,6))"
   ]
  },
  {
   "cell_type": "code",
   "execution_count": 38,
   "metadata": {},
   "outputs": [
    {
     "data": {
      "text/plain": [
       "count    413.000000\n",
       "mean       5.863667\n",
       "std        6.477383\n",
       "min       -2.196000\n",
       "25%       -0.014000\n",
       "50%        3.657500\n",
       "75%       11.687500\n",
       "max       17.689500\n",
       "Name: 1, dtype: float64"
      ]
     },
     "execution_count": 38,
     "metadata": {},
     "output_type": "execute_result"
    }
   ],
   "source": [
    "itog = data_1.describe()\n",
    "itog"
   ]
  },
  {
   "cell_type": "code",
   "execution_count": 7,
   "metadata": {},
   "outputs": [
    {
     "data": {
      "text/html": [
       "<div>\n",
       "<style scoped>\n",
       "    .dataframe tbody tr th:only-of-type {\n",
       "        vertical-align: middle;\n",
       "    }\n",
       "\n",
       "    .dataframe tbody tr th {\n",
       "        vertical-align: top;\n",
       "    }\n",
       "\n",
       "    .dataframe thead th {\n",
       "        text-align: right;\n",
       "    }\n",
       "</style>\n",
       "<table border=\"1\" class=\"dataframe\">\n",
       "  <thead>\n",
       "    <tr style=\"text-align: right;\">\n",
       "      <th></th>\n",
       "      <th>1</th>\n",
       "      <th>2</th>\n",
       "      <th>3</th>\n",
       "      <th>4</th>\n",
       "      <th>5</th>\n",
       "      <th>6</th>\n",
       "      <th>7</th>\n",
       "      <th>8</th>\n",
       "      <th>9</th>\n",
       "      <th>10</th>\n",
       "      <th>...</th>\n",
       "      <th>2926</th>\n",
       "      <th>2927</th>\n",
       "      <th>2928</th>\n",
       "      <th>2929</th>\n",
       "      <th>2930</th>\n",
       "      <th>2931</th>\n",
       "      <th>2932</th>\n",
       "      <th>2933</th>\n",
       "      <th>2934</th>\n",
       "      <th>2935</th>\n",
       "    </tr>\n",
       "  </thead>\n",
       "  <tbody>\n",
       "    <tr>\n",
       "      <th>Unnamed: 0</th>\n",
       "      <td>0.101</td>\n",
       "      <td>0.227</td>\n",
       "      <td>0.354</td>\n",
       "      <td>0.48</td>\n",
       "      <td>0.607</td>\n",
       "      <td>0.733</td>\n",
       "      <td>0.86</td>\n",
       "      <td>0.986</td>\n",
       "      <td>1.113</td>\n",
       "      <td>1.239</td>\n",
       "      <td>...</td>\n",
       "      <td>370.09</td>\n",
       "      <td>370.21</td>\n",
       "      <td>370.34</td>\n",
       "      <td>370.47</td>\n",
       "      <td>370.59</td>\n",
       "      <td>370.72</td>\n",
       "      <td>370.84</td>\n",
       "      <td>370.97</td>\n",
       "      <td>371.1</td>\n",
       "      <td>371.22</td>\n",
       "    </tr>\n",
       "    <tr>\n",
       "      <th>18/03/2016 08:59:20</th>\n",
       "      <td>1.236</td>\n",
       "      <td>1.074</td>\n",
       "      <td>1.19</td>\n",
       "      <td>1.2</td>\n",
       "      <td>0.959</td>\n",
       "      <td>0.881</td>\n",
       "      <td>0.885</td>\n",
       "      <td>0.974</td>\n",
       "      <td>0.962</td>\n",
       "      <td>0.863</td>\n",
       "      <td>...</td>\n",
       "      <td>110.7</td>\n",
       "      <td>110.79</td>\n",
       "      <td>110.59</td>\n",
       "      <td>110.65</td>\n",
       "      <td>110.76</td>\n",
       "      <td>110.64</td>\n",
       "      <td>109.84</td>\n",
       "      <td>106.75</td>\n",
       "      <td>102.69</td>\n",
       "      <td>102.02</td>\n",
       "    </tr>\n",
       "    <tr>\n",
       "      <th>18/03/2016 09:00:22</th>\n",
       "      <td>1.052</td>\n",
       "      <td>0.973</td>\n",
       "      <td>0.914</td>\n",
       "      <td>0.907</td>\n",
       "      <td>0.756</td>\n",
       "      <td>0.587</td>\n",
       "      <td>0.69</td>\n",
       "      <td>0.925</td>\n",
       "      <td>0.981</td>\n",
       "      <td>0.817</td>\n",
       "      <td>...</td>\n",
       "      <td>110.56</td>\n",
       "      <td>110.39</td>\n",
       "      <td>110.58</td>\n",
       "      <td>110.74</td>\n",
       "      <td>110.53</td>\n",
       "      <td>110.58</td>\n",
       "      <td>109.68</td>\n",
       "      <td>106.78</td>\n",
       "      <td>102.75</td>\n",
       "      <td>101.84</td>\n",
       "    </tr>\n",
       "    <tr>\n",
       "      <th>18/03/2016 09:01:24</th>\n",
       "      <td>1.065</td>\n",
       "      <td>0.927</td>\n",
       "      <td>0.684</td>\n",
       "      <td>0.602</td>\n",
       "      <td>0.803</td>\n",
       "      <td>0.725</td>\n",
       "      <td>0.655</td>\n",
       "      <td>0.826</td>\n",
       "      <td>0.819</td>\n",
       "      <td>0.706</td>\n",
       "      <td>...</td>\n",
       "      <td>110.69</td>\n",
       "      <td>110.47</td>\n",
       "      <td>110.45</td>\n",
       "      <td>110.44</td>\n",
       "      <td>110.68</td>\n",
       "      <td>110.73</td>\n",
       "      <td>109.87</td>\n",
       "      <td>107.09</td>\n",
       "      <td>102.81</td>\n",
       "      <td>101.71</td>\n",
       "    </tr>\n",
       "    <tr>\n",
       "      <th>18/03/2016 09:02:26</th>\n",
       "      <td>0.912</td>\n",
       "      <td>0.748</td>\n",
       "      <td>0.707</td>\n",
       "      <td>0.749</td>\n",
       "      <td>0.716</td>\n",
       "      <td>0.694</td>\n",
       "      <td>0.771</td>\n",
       "      <td>0.735</td>\n",
       "      <td>0.847</td>\n",
       "      <td>0.847</td>\n",
       "      <td>...</td>\n",
       "      <td>110.78</td>\n",
       "      <td>110.41</td>\n",
       "      <td>110.65</td>\n",
       "      <td>110.75</td>\n",
       "      <td>110.56</td>\n",
       "      <td>110.58</td>\n",
       "      <td>109.89</td>\n",
       "      <td>107</td>\n",
       "      <td>102.45</td>\n",
       "      <td>101.5</td>\n",
       "    </tr>\n",
       "  </tbody>\n",
       "</table>\n",
       "<p>5 rows × 2935 columns</p>\n",
       "</div>"
      ],
      "text/plain": [
       "                      1      2      3      4      5      6      7      8     \\\n",
       "Unnamed: 0           0.101  0.227  0.354   0.48  0.607  0.733   0.86  0.986   \n",
       "18/03/2016 08:59:20  1.236  1.074   1.19    1.2  0.959  0.881  0.885  0.974   \n",
       "18/03/2016 09:00:22  1.052  0.973  0.914  0.907  0.756  0.587   0.69  0.925   \n",
       "18/03/2016 09:01:24  1.065  0.927  0.684  0.602  0.803  0.725  0.655  0.826   \n",
       "18/03/2016 09:02:26  0.912  0.748  0.707  0.749  0.716  0.694  0.771  0.735   \n",
       "\n",
       "                      9      10    ...    2926    2927    2928    2929  \\\n",
       "Unnamed: 0           1.113  1.239  ...  370.09  370.21  370.34  370.47   \n",
       "18/03/2016 08:59:20  0.962  0.863  ...   110.7  110.79  110.59  110.65   \n",
       "18/03/2016 09:00:22  0.981  0.817  ...  110.56  110.39  110.58  110.74   \n",
       "18/03/2016 09:01:24  0.819  0.706  ...  110.69  110.47  110.45  110.44   \n",
       "18/03/2016 09:02:26  0.847  0.847  ...  110.78  110.41  110.65  110.75   \n",
       "\n",
       "                       2930    2931    2932    2933    2934    2935  \n",
       "Unnamed: 0           370.59  370.72  370.84  370.97   371.1  371.22  \n",
       "18/03/2016 08:59:20  110.76  110.64  109.84  106.75  102.69  102.02  \n",
       "18/03/2016 09:00:22  110.53  110.58  109.68  106.78  102.75  101.84  \n",
       "18/03/2016 09:01:24  110.68  110.73  109.87  107.09  102.81  101.71  \n",
       "18/03/2016 09:02:26  110.56  110.58  109.89     107  102.45   101.5  \n",
       "\n",
       "[5 rows x 2935 columns]"
      ]
     },
     "execution_count": 7,
     "metadata": {},
     "output_type": "execute_result"
    }
   ],
   "source": [
    "fl_without_nan = (fl_data.T).dropna()\n",
    "del fl_without_nan[0]\n",
    "fl_without_nan.head()"
   ]
  },
  {
   "cell_type": "code",
   "execution_count": 56,
   "metadata": {},
   "outputs": [
    {
     "data": {
      "text/plain": [
       "<matplotlib.axes._subplots.AxesSubplot at 0x217740410c8>"
      ]
     },
     "execution_count": 56,
     "metadata": {},
     "output_type": "execute_result"
    },
    {
     "data": {
      "image/png": "[encoded data removed]",
      "text/plain": [
       "<Figure size 432x288 with 1 Axes>"
      ]
     },
     "metadata": {
      "needs_background": "light"
     },
     "output_type": "display_data"
    }
   ],
   "source": [
    "dataset = pd.read_csv('DTSV.csv', index_col=['Unnamed: 0'], parse_dates=['Unnamed: 0'], dayfirst=True)\n",
    "dataset.rename(columns={'Unnamed: 0':'Day'}, inplace=True)\n",
    "data = dataset['1'][:105]\n",
    "data.plot()"
   ]
  },
  {
   "cell_type": "code",
   "execution_count": 89,
   "metadata": {},
   "outputs": [],
   "source": [
    "data_train = dataset.dropna()\n",
    "data_train = data_train['1'][:105]\n",
    "model = sm.tsa.arima.model.ARIMA(np.asarray(data_train), order=(5,1,0), \n",
    "                                 dates=np.asarray(data_train.index), freq='D').fit()"
   ]
  },
  {
   "cell_type": "code",
   "execution_count": 90,
   "metadata": {},
   "outputs": [
    {
     "name": "stdout",
     "output_type": "stream",
     "text": [
      "                0\n",
      "count  105.000000\n",
      "mean     0.007920\n",
      "std      0.223315\n",
      "min     -0.688624\n",
      "25%     -0.129585\n",
      "50%      0.008276\n",
      "75%      0.105614\n",
      "max      1.236000\n"
     ]
    },
    {
     "data": {
      "image/png": "[encoded data removed]",
      "text/plain": [
       "<Figure size 432x288 with 1 Axes>"
      ]
     },
     "metadata": {
      "needs_background": "light"
     },
     "output_type": "display_data"
    },
    {
     "data": {
      "image/png": "[encoded data removed]",
      "text/plain": [
       "<Figure size 432x288 with 1 Axes>"
      ]
     },
     "metadata": {
      "needs_background": "light"
     },
     "output_type": "display_data"
    }
   ],
   "source": [
    "residuals = pd.DataFrame(model.resid)\n",
    "residuals.plot()\n",
    "residuals.plot(kind='kde')\n",
    "print(residuals.describe())"
   ]
  },
  {
   "cell_type": "code",
   "execution_count": 91,
   "metadata": {},
   "outputs": [
    {
     "data": {
      "text/html": [
       "<table class=\"simpletable\">\n",
       "<caption>SARIMAX Results</caption>\n",
       "<tr>\n",
       "  <th>Dep. Variable:</th>           <td>y</td>        <th>  No. Observations:  </th>   <td>105</td>  \n",
       "</tr>\n",
       "<tr>\n",
       "  <th>Model:</th>            <td>ARIMA(5, 1, 0)</td>  <th>  Log Likelihood     </th> <td>26.372</td> \n",
       "</tr>\n",
       "<tr>\n",
       "  <th>Date:</th>            <td>Mon, 23 Nov 2020</td> <th>  AIC                </th> <td>-40.744</td>\n",
       "</tr>\n",
       "<tr>\n",
       "  <th>Time:</th>                <td>16:07:34</td>     <th>  BIC                </th> <td>-24.878</td>\n",
       "</tr>\n",
       "<tr>\n",
       "  <th>Sample:</th>                  <td>0</td>        <th>  HQIC               </th> <td>-34.317</td>\n",
       "</tr>\n",
       "<tr>\n",
       "  <th></th>                      <td> - 105</td>      <th>                     </th>    <td> </td>   \n",
       "</tr>\n",
       "<tr>\n",
       "  <th>Covariance Type:</th>        <td>opg</td>       <th>                     </th>    <td> </td>   \n",
       "</tr>\n",
       "</table>\n",
       "<table class=\"simpletable\">\n",
       "<tr>\n",
       "     <td></td>       <th>coef</th>     <th>std err</th>      <th>z</th>      <th>P>|z|</th>  <th>[0.025</th>    <th>0.975]</th>  \n",
       "</tr>\n",
       "<tr>\n",
       "  <th>ar.L1</th>  <td>    0.2109</td> <td>    0.106</td> <td>    1.986</td> <td> 0.047</td> <td>    0.003</td> <td>    0.419</td>\n",
       "</tr>\n",
       "<tr>\n",
       "  <th>ar.L2</th>  <td>    0.0908</td> <td>    0.109</td> <td>    0.833</td> <td> 0.405</td> <td>   -0.123</td> <td>    0.304</td>\n",
       "</tr>\n",
       "<tr>\n",
       "  <th>ar.L3</th>  <td>   -0.0103</td> <td>    0.108</td> <td>   -0.095</td> <td> 0.924</td> <td>   -0.222</td> <td>    0.202</td>\n",
       "</tr>\n",
       "<tr>\n",
       "  <th>ar.L4</th>  <td>    0.0130</td> <td>    0.101</td> <td>    0.128</td> <td> 0.898</td> <td>   -0.186</td> <td>    0.212</td>\n",
       "</tr>\n",
       "<tr>\n",
       "  <th>ar.L5</th>  <td>   -0.1073</td> <td>    0.123</td> <td>   -0.869</td> <td> 0.385</td> <td>   -0.349</td> <td>    0.135</td>\n",
       "</tr>\n",
       "<tr>\n",
       "  <th>sigma2</th> <td>    0.0352</td> <td>    0.004</td> <td>    7.984</td> <td> 0.000</td> <td>    0.027</td> <td>    0.044</td>\n",
       "</tr>\n",
       "</table>\n",
       "<table class=\"simpletable\">\n",
       "<tr>\n",
       "  <th>Ljung-Box (Q):</th>          <td>31.28</td> <th>  Jarque-Bera (JB):  </th> <td>6.46</td> \n",
       "</tr>\n",
       "<tr>\n",
       "  <th>Prob(Q):</th>                <td>0.84</td>  <th>  Prob(JB):          </th> <td>0.04</td> \n",
       "</tr>\n",
       "<tr>\n",
       "  <th>Heteroskedasticity (H):</th> <td>0.84</td>  <th>  Skew:              </th> <td>-0.30</td>\n",
       "</tr>\n",
       "<tr>\n",
       "  <th>Prob(H) (two-sided):</th>    <td>0.61</td>  <th>  Kurtosis:          </th> <td>4.06</td> \n",
       "</tr>\n",
       "</table><br/><br/>Warnings:<br/>[1] Covariance matrix calculated using the outer product of gradients (complex-step)."
      ],
      "text/plain": [
       "<class 'statsmodels.iolib.summary.Summary'>\n",
       "\"\"\"\n",
       "                               SARIMAX Results                                \n",
       "==============================================================================\n",
       "Dep. Variable:                      y   No. Observations:                  105\n",
       "Model:                 ARIMA(5, 1, 0)   Log Likelihood                  26.372\n",
       "Date:                Mon, 23 Nov 2020   AIC                            -40.744\n",
       "Time:                        16:07:34   BIC                            -24.878\n",
       "Sample:                             0   HQIC                           -34.317\n",
       "                                - 105                                         \n",
       "Covariance Type:                  opg                                         \n",
       "==============================================================================\n",
       "                 coef    std err          z      P>|z|      [0.025      0.975]\n",
       "------------------------------------------------------------------------------\n",
       "ar.L1          0.2109      0.106      1.986      0.047       0.003       0.419\n",
       "ar.L2          0.0908      0.109      0.833      0.405      -0.123       0.304\n",
       "ar.L3         -0.0103      0.108     -0.095      0.924      -0.222       0.202\n",
       "ar.L4          0.0130      0.101      0.128      0.898      -0.186       0.212\n",
       "ar.L5         -0.1073      0.123     -0.869      0.385      -0.349       0.135\n",
       "sigma2         0.0352      0.004      7.984      0.000       0.027       0.044\n",
       "===================================================================================\n",
       "Ljung-Box (Q):                       31.28   Jarque-Bera (JB):                 6.46\n",
       "Prob(Q):                              0.84   Prob(JB):                         0.04\n",
       "Heteroskedasticity (H):               0.84   Skew:                            -0.30\n",
       "Prob(H) (two-sided):                  0.61   Kurtosis:                         4.06\n",
       "===================================================================================\n",
       "\n",
       "Warnings:\n",
       "[1] Covariance matrix calculated using the outer product of gradients (complex-step).\n",
       "\"\"\""
      ]
     },
     "execution_count": 91,
     "metadata": {},
     "output_type": "execute_result"
    }
   ],
   "source": [
    "model.summary()"
   ]
  },
  {
   "cell_type": "code",
   "execution_count": 92,
   "metadata": {},
   "outputs": [
    {
     "name": "stdout",
     "output_type": "stream",
     "text": [
      "       Q-stat   p-value\n",
      "0    0.336132  0.562071\n",
      "1    0.365638  0.832919\n",
      "2    0.547505  0.908338\n",
      "3    0.570785  0.966254\n",
      "4    0.991150  0.963276\n",
      "5    3.868165  0.694512\n",
      "6    3.890248  0.792328\n",
      "7    4.142696  0.844025\n",
      "8    5.041778  0.830651\n",
      "9    5.079752  0.885787\n",
      "10   5.090977  0.926681\n",
      "11   5.619014  0.934057\n",
      "12   6.277860  0.935453\n",
      "13   7.452327  0.915867\n",
      "14   7.998850  0.923829\n",
      "15   8.017980  0.948329\n",
      "16   8.961233  0.941470\n",
      "17   9.220845  0.954405\n",
      "18   9.229872  0.969463\n",
      "19  11.704777  0.925863\n",
      "20  13.257066  0.899353\n",
      "21  13.390184  0.921705\n",
      "22  13.391052  0.942994\n",
      "23  13.728229  0.952552\n",
      "24  16.813034  0.888463\n",
      "25  17.128045  0.905164\n",
      "26  17.251004  0.924748\n",
      "27  17.506241  0.937909\n",
      "28  17.520458  0.953466\n",
      "29  17.528254  0.965682\n",
      "30  24.801338  0.776533\n",
      "31  25.600868  0.780985\n",
      "32  25.905653  0.805474\n",
      "33  25.982671  0.836115\n",
      "34  26.277929  0.856063\n",
      "35  26.290107  0.882313\n",
      "36  26.297732  0.904885\n",
      "37  26.318040  0.923659\n",
      "38  26.682837  0.933010\n",
      "39  32.456056  0.795974\n"
     ]
    },
    {
     "name": "stderr",
     "output_type": "stream",
     "text": [
      "C:\\Users\\Nick\\anaconda3\\lib\\site-packages\\statsmodels\\tsa\\stattools.py:572: FutureWarning: fft=True will become the default in a future version of statsmodels. To suppress this warning, explicitly set fft=False.\n",
      "  FutureWarning\n"
     ]
    }
   ],
   "source": [
    "q_test = sm.tsa.stattools.acf(model.resid, qstat=True)\n",
    "print (pd.DataFrame({'Q-stat':q_test[1], 'p-value':q_test[2]}))"
   ]
  },
  {
   "cell_type": "code",
   "execution_count": 93,
   "metadata": {},
   "outputs": [
    {
     "name": "stdout",
     "output_type": "stream",
     "text": [
      "[0.71602504]\n"
     ]
    }
   ],
   "source": [
    "output = model.forecast()\n",
    "print(output)"
   ]
  },
  {
   "cell_type": "code",
   "execution_count": 94,
   "metadata": {},
   "outputs": [
    {
     "data": {
      "text/plain": [
       "statsmodels.tsa.arima.model.ARIMAResultsWrapper"
      ]
     },
     "execution_count": 94,
     "metadata": {},
     "output_type": "execute_result"
    }
   ],
   "source": [
    "type(model)"
   ]
  },
  {
   "cell_type": "code",
   "execution_count": 145,
   "metadata": {},
   "outputs": [
    {
     "data": {
      "text/plain": [
       "<matplotlib.axes._subplots.AxesSubplot at 0x21708b82448>"
      ]
     },
     "execution_count": 145,
     "metadata": {},
     "output_type": "execute_result"
    },
    {
     "data": {
      "image/png": "[encoded data removed]",
      "text/plain": [
       "<Figure size 432x288 with 1 Axes>"
      ]
     },
     "metadata": {
      "needs_background": "light"
     },
     "output_type": "display_data"
    }
   ],
   "source": [
    "data_test = dataset['1']\n",
    "pred = pd.DataFrame(model.predict(start=106, end=116))\n",
    "pred.plot()"
   ]
  },
  {
   "cell_type": "code",
   "execution_count": 146,
   "metadata": {},
   "outputs": [
    {
     "data": {
      "text/plain": [
       "<matplotlib.axes._subplots.AxesSubplot at 0x21708b0c548>"
      ]
     },
     "execution_count": 146,
     "metadata": {},
     "output_type": "execute_result"
    },
    {
     "data": {
      "image/png": "[encoded data removed]",
      "text/plain": [
       "<Figure size 432x288 with 1 Axes>"
      ]
     },
     "metadata": {
      "needs_background": "light"
     },
     "output_type": "display_data"
    }
   ],
   "source": [
    "data_train.plot()"
   ]
  },
  {
   "cell_type": "code",
   "execution_count": 147,
   "metadata": {},
   "outputs": [],
   "source": [
    "data_train2 = dataset['1']\n",
    "model2 = sm.tsa.arima.model.ARIMA(np.asarray(data_train2), order=(5,1,0), \n",
    "                                 dates=np.asarray(data_train.index), freq='D').fit()"
   ]
  },
  {
   "cell_type": "code",
   "execution_count": 148,
   "metadata": {},
   "outputs": [],
   "source": [
    "pred2 = pd.DataFrame(model2.predict(start=106, end=172))"
   ]
  },
  {
   "cell_type": "code",
   "execution_count": 149,
   "metadata": {},
   "outputs": [
    {
     "data": {
      "text/plain": [
       "<matplotlib.axes._subplots.AxesSubplot at 0x217089d7788>"
      ]
     },
     "execution_count": 149,
     "metadata": {},
     "output_type": "execute_result"
    },
    {
     "data": {
      "image/png": "[encoded data removed]",
      "text/plain": [
       "<Figure size 432x288 with 1 Axes>"
      ]
     },
     "metadata": {
      "needs_background": "light"
     },
     "output_type": "display_data"
    },
    {
     "data": {
      "image/png": "[encoded data removed]",
      "text/plain": [
       "<Figure size 432x288 with 1 Axes>"
      ]
     },
     "metadata": {
      "needs_background": "light"
     },
     "output_type": "display_data"
    }
   ],
   "source": [
    "pred.plot()\n",
    "pred2.plot()"
   ]
  },
  {
   "cell_type": "code",
   "execution_count": 150,
   "metadata": {},
   "outputs": [
    {
     "data": {
      "text/plain": [
       "<matplotlib.axes._subplots.AxesSubplot at 0x21708942d88>"
      ]
     },
     "execution_count": 150,
     "metadata": {},
     "output_type": "execute_result"
    },
    {
     "data": {
      "image/png": "[encoded data removed]",
      "text/plain": [
       "<Figure size 432x288 with 1 Axes>"
      ]
     },
     "metadata": {
      "needs_background": "light"
     },
     "output_type": "display_data"
    }
   ],
   "source": [
    "pd.DataFrame(model2.predict(start=106, end=172)).plot()"
   ]
  },
  {
   "cell_type": "code",
   "execution_count": 151,
   "metadata": {},
   "outputs": [
    {
     "data": {
      "text/plain": [
       "<matplotlib.axes._subplots.AxesSubplot at 0x217502d5088>"
      ]
     },
     "execution_count": 151,
     "metadata": {},
     "output_type": "execute_result"
    },
    {
     "data": {
      "image/png": "[encoded data removed]",
      "text/plain": [
       "<Figure size 432x288 with 1 Axes>"
      ]
     },
     "metadata": {
      "needs_background": "light"
     },
     "output_type": "display_data"
    }
   ],
   "source": [
    "dataset['1'].plot()"
   ]
  },
  {
   "cell_type": "code",
   "execution_count": 152,
   "metadata": {},
   "outputs": [],
   "source": [
    "data_train3 = dataset['1']\n",
    "model3 = sm.tsa.arima.model.ARIMA(np.asarray(data_train3), order=(5,1,0), \n",
    "                                 dates=np.asarray(data_train.index), freq='D').fit()"
   ]
  },
  {
   "cell_type": "code",
   "execution_count": 157,
   "metadata": {},
   "outputs": [
    {
     "data": {
      "text/plain": [
       "<matplotlib.axes._subplots.AxesSubplot at 0x21708524048>"
      ]
     },
     "execution_count": 157,
     "metadata": {},
     "output_type": "execute_result"
    },
    {
     "data": {
      "image/png": "[encoded data removed]",
      "text/plain": [
       "<Figure size 432x288 with 1 Axes>"
      ]
     },
     "metadata": {
      "needs_background": "light"
     },
     "output_type": "display_data"
    }
   ],
   "source": [
    "pred3 = pd.DataFrame(model3.predict(start=106, end=172))\n",
    "x_values=[]\n",
    "y_values=model3.predict(start=106, end=172)\n",
    "for i in range(67):\n",
    "    x_values.append(i + 107)\n",
    "x_values2=[]\n",
    "y_values2=model3.predict(start=237, end=292)\n",
    "for i in range(56):\n",
    "    x_values2.append(i + 237)\n",
    "x_values3=[]\n",
    "y_values3=model3.predict(start=368, end=382)\n",
    "for i in range(15):\n",
    "    x_values3.append(i + 368)\n",
    "x_values4=[]\n",
    "y_values4=model3.predict(start=492, end=529)\n",
    "for i in range(38):\n",
    "    x_values4.append(i + 492)\n",
    "plt.plot(x_values, y_values)\n",
    "plt.plot(x_values2, y_values2)\n",
    "plt.plot(x_values3, y_values3)\n",
    "plt.plot(x_values4, y_values4)\n",
    "plt.ylim([-2.5, 17.5])\n",
    "plt.xlim([0, 585])\n",
    "dataset['1'].plot()"
   ]
  },
  {
   "cell_type": "code",
   "execution_count": 140,
   "metadata": {},
   "outputs": [
    {
     "data": {
      "text/plain": [
       "<matplotlib.axes._subplots.AxesSubplot at 0x21708d4ed88>"
      ]
     },
     "execution_count": 140,
     "metadata": {},
     "output_type": "execute_result"
    },
    {
     "data": {
      "image/png": "[encoded data removed]",
      "text/plain": [
       "<Figure size 432x288 with 1 Axes>"
      ]
     },
     "metadata": {
      "needs_background": "light"
     },
     "output_type": "display_data"
    }
   ],
   "source": [
    "pred3.plot()"
   ]
  },
  {
   "cell_type": "code",
   "execution_count": 131,
   "metadata": {},
   "outputs": [
    {
     "data": {
      "text/html": [
       "<div>\n",
       "<style scoped>\n",
       "    .dataframe tbody tr th:only-of-type {\n",
       "        vertical-align: middle;\n",
       "    }\n",
       "\n",
       "    .dataframe tbody tr th {\n",
       "        vertical-align: top;\n",
       "    }\n",
       "\n",
       "    .dataframe thead th {\n",
       "        text-align: right;\n",
       "    }\n",
       "</style>\n",
       "<table border=\"1\" class=\"dataframe\">\n",
       "  <thead>\n",
       "    <tr style=\"text-align: right;\">\n",
       "      <th></th>\n",
       "      <th>0</th>\n",
       "    </tr>\n",
       "  </thead>\n",
       "  <tbody>\n",
       "    <tr>\n",
       "      <th>0</th>\n",
       "      <td>0.036508</td>\n",
       "    </tr>\n",
       "    <tr>\n",
       "      <th>1</th>\n",
       "      <td>0.095983</td>\n",
       "    </tr>\n",
       "    <tr>\n",
       "      <th>2</th>\n",
       "      <td>-0.033700</td>\n",
       "    </tr>\n",
       "    <tr>\n",
       "      <th>3</th>\n",
       "      <td>0.092052</td>\n",
       "    </tr>\n",
       "    <tr>\n",
       "      <th>4</th>\n",
       "      <td>0.068335</td>\n",
       "    </tr>\n",
       "    <tr>\n",
       "      <th>...</th>\n",
       "      <td>...</td>\n",
       "    </tr>\n",
       "    <tr>\n",
       "      <th>62</th>\n",
       "      <td>-0.011850</td>\n",
       "    </tr>\n",
       "    <tr>\n",
       "      <th>63</th>\n",
       "      <td>-0.023654</td>\n",
       "    </tr>\n",
       "    <tr>\n",
       "      <th>64</th>\n",
       "      <td>-0.027867</td>\n",
       "    </tr>\n",
       "    <tr>\n",
       "      <th>65</th>\n",
       "      <td>-0.008990</td>\n",
       "    </tr>\n",
       "    <tr>\n",
       "      <th>66</th>\n",
       "      <td>-0.113127</td>\n",
       "    </tr>\n",
       "  </tbody>\n",
       "</table>\n",
       "<p>67 rows × 1 columns</p>\n",
       "</div>"
      ],
      "text/plain": [
       "           0\n",
       "0   0.036508\n",
       "1   0.095983\n",
       "2  -0.033700\n",
       "3   0.092052\n",
       "4   0.068335\n",
       "..       ...\n",
       "62 -0.011850\n",
       "63 -0.023654\n",
       "64 -0.027867\n",
       "65 -0.008990\n",
       "66 -0.113127\n",
       "\n",
       "[67 rows x 1 columns]"
      ]
     },
     "execution_count": 131,
     "metadata": {},
     "output_type": "execute_result"
    }
   ],
   "source": [
    "pred3-pred2"
   ]
  },
  {
   "cell_type": "code",
   "execution_count": 132,
   "metadata": {},
   "outputs": [
    {
     "data": {
      "text/plain": [
       "array([ 1.81937081e-08, -5.59381656e-02, -2.30694567e-02, -2.94069403e-02,\n",
       "       -1.77616546e-02,  5.85951129e-02, -2.53336026e-02, -3.45878809e-02,\n",
       "       -3.90186717e-03, -3.16441766e-02])"
      ]
     },
     "execution_count": 132,
     "metadata": {},
     "output_type": "execute_result"
    }
   ],
   "source": [
    "model3.predict(start=1, end=10) - np.asarray(data_train3[:10])"
   ]
  },
  {
   "cell_type": "code",
   "execution_count": null,
   "metadata": {},
   "outputs": [],
   "source": []
  }
 ],
 "metadata": {
  "kernelspec": {
   "display_name": "Python 3",
   "language": "python",
   "name": "python3"
  },
  "language_info": {
   "codemirror_mode": {
    "name": "ipython",
    "version": 3
   },
   "file_extension": ".py",
   "mimetype": "text/x-python",
   "name": "python",
   "nbconvert_exporter": "python",
   "pygments_lexer": "ipython3",
   "version": "3.7.6"
  }
 },
 "nbformat": 4,
 "nbformat_minor": 4
}
